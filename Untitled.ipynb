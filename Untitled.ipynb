{
 "cells": [
  {
   "cell_type": "code",
   "execution_count": 1,
   "metadata": {},
   "outputs": [],
   "source": [
    "import pandas as pd"
   ]
  },
  {
   "cell_type": "code",
   "execution_count": 2,
   "metadata": {},
   "outputs": [],
   "source": [
    "bank = pd.read_csv('accounts.csv')"
   ]
  },
  {
   "cell_type": "code",
   "execution_count": 3,
   "metadata": {},
   "outputs": [
    {
     "data": {
      "text/html": [
       "<div>\n",
       "<style scoped>\n",
       "    .dataframe tbody tr th:only-of-type {\n",
       "        vertical-align: middle;\n",
       "    }\n",
       "\n",
       "    .dataframe tbody tr th {\n",
       "        vertical-align: top;\n",
       "    }\n",
       "\n",
       "    .dataframe thead th {\n",
       "        text-align: right;\n",
       "    }\n",
       "</style>\n",
       "<table border=\"1\" class=\"dataframe\">\n",
       "  <thead>\n",
       "    <tr style=\"text-align: right;\">\n",
       "      <th></th>\n",
       "      <th>Email</th>\n",
       "      <th>Password</th>\n",
       "    </tr>\n",
       "  </thead>\n",
       "  <tbody>\n",
       "    <tr>\n",
       "      <td>0</td>\n",
       "      <td>123</td>\n",
       "      <td>b'gAAAAABeFcA4T7rr-qJx6uqgH_1Y7OUDq2ms2NHBnBKj...</td>\n",
       "    </tr>\n",
       "    <tr>\n",
       "      <td>1</td>\n",
       "      <td>967</td>\n",
       "      <td>b'gAAAAABeFcA9TTxb7IFdBw1TiK0FQSPbxjdW0WDviCmS...</td>\n",
       "    </tr>\n",
       "    <tr>\n",
       "      <td>2</td>\n",
       "      <td>4786083</td>\n",
       "      <td>b'gAAAAABeFcBGbOPfNjujjr-ql-Dz7r7u8QE81W16qj_O...</td>\n",
       "    </tr>\n",
       "    <tr>\n",
       "      <td>3</td>\n",
       "      <td>ohsdvf</td>\n",
       "      <td>b'gAAAAABeFcBKKdadKOI4CxaCNU9ToYnvLQ4cUHcdi0tf...</td>\n",
       "    </tr>\n",
       "    <tr>\n",
       "      <td>4</td>\n",
       "      <td>oihsa</td>\n",
       "      <td>b'gAAAAABeFcBNj64rgDU1bDMu4iyWpwGP-MRhxKcikKYE...</td>\n",
       "    </tr>\n",
       "  </tbody>\n",
       "</table>\n",
       "</div>"
      ],
      "text/plain": [
       "     Email                                           Password\n",
       "0      123  b'gAAAAABeFcA4T7rr-qJx6uqgH_1Y7OUDq2ms2NHBnBKj...\n",
       "1      967  b'gAAAAABeFcA9TTxb7IFdBw1TiK0FQSPbxjdW0WDviCmS...\n",
       "2  4786083  b'gAAAAABeFcBGbOPfNjujjr-ql-Dz7r7u8QE81W16qj_O...\n",
       "3   ohsdvf  b'gAAAAABeFcBKKdadKOI4CxaCNU9ToYnvLQ4cUHcdi0tf...\n",
       "4    oihsa  b'gAAAAABeFcBNj64rgDU1bDMu4iyWpwGP-MRhxKcikKYE..."
      ]
     },
     "execution_count": 3,
     "metadata": {},
     "output_type": "execute_result"
    }
   ],
   "source": [
    "bank.head()"
   ]
  },
  {
   "cell_type": "code",
   "execution_count": 4,
   "metadata": {},
   "outputs": [
    {
     "data": {
      "text/plain": [
       "(10, 2)"
      ]
     },
     "execution_count": 4,
     "metadata": {},
     "output_type": "execute_result"
    }
   ],
   "source": [
    "bank.shape"
   ]
  },
  {
   "cell_type": "code",
   "execution_count": null,
   "metadata": {},
   "outputs": [],
   "source": []
  }
 ],
 "metadata": {
  "kernelspec": {
   "display_name": "Python 3",
   "language": "python",
   "name": "python3"
  },
  "language_info": {
   "codemirror_mode": {
    "name": "ipython",
    "version": 3
   },
   "file_extension": ".py",
   "mimetype": "text/x-python",
   "name": "python",
   "nbconvert_exporter": "python",
   "pygments_lexer": "ipython3",
   "version": "3.7.4"
  }
 },
 "nbformat": 4,
 "nbformat_minor": 2
}
